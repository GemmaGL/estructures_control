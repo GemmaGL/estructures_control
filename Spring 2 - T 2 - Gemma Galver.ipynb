{
 "cells": [
  {
   "cell_type": "markdown",
   "id": "a3701a15",
   "metadata": {},
   "source": [
    "# SPRING 2 TASCA 2\n",
    "\n",
    "### Exercici 1\n",
    "\n",
    "L'exercici consisteix a crear un programa que et classifiqui una variable numèrica en funció de l’escala Suspès/Aprovat/Notable/Excel·lent.\n",
    "\n",
    "Recorda que Suspès < 5, Aprovat > 5 i < 7, Notable > 7 i < 9 i Excel·lent > 9."
   ]
  },
  {
   "cell_type": "code",
   "execution_count": 1,
   "id": "d66ccb6d",
   "metadata": {},
   "outputs": [
    {
     "name": "stdout",
     "output_type": "stream",
     "text": [
      "Suspès\n",
      "Aprovat\n",
      "Notable\n"
     ]
    }
   ],
   "source": [
    "def clas_numerica (nota):\n",
    "    if nota < 5:\n",
    "        return \"Suspès\"\n",
    "    elif 5 <= nota <7:\n",
    "        return \"Aprovat\"\n",
    "    elif 7 <= nota <9:\n",
    "        return \"Notable\"\n",
    "    else: \n",
    "        return \"Excelent\"\n",
    "    \n",
    "print(clas_numerica(4))\n",
    "print(clas_numerica(6))\n",
    "print(clas_numerica(7.6))"
   ]
  },
  {
   "cell_type": "markdown",
   "id": "b544fb6e",
   "metadata": {},
   "source": [
    "### Exercici 2\n",
    "\n",
    "Utilitzant el següent tutorial crea un programa que et pregunti dos números. T’ha de mostrar un missatge dient si el primer és més gran, el segon és més gran o són iguals."
   ]
  },
  {
   "cell_type": "code",
   "execution_count": 2,
   "id": "a4a123bf",
   "metadata": {},
   "outputs": [
    {
     "name": "stdout",
     "output_type": "stream",
     "text": [
      "Escriu un número: 6\n",
      "Escriu un altre número: 7\n",
      "El número 2 és més gran que el 1\n"
     ]
    }
   ],
   "source": [
    "num1 = int(input(\"Escriu un número: \"))\n",
    "num2 = int(input(\"Escriu un altre número: \"))\n",
    "\n",
    "def num_major(num1,num2):\n",
    "    if num1 > num2:\n",
    "        return \"El número 1 és més gran que el 2\"\n",
    "    elif num1 < num2:\n",
    "        return \"El número 2 és més gran que el 1\"\n",
    "    else:\n",
    "        return \"Els dos números son iguals\"\n",
    "\n",
    "print (num_major(num1,num2))"
   ]
  },
  {
   "cell_type": "markdown",
   "id": "9fe05c00",
   "metadata": {},
   "source": [
    "### Exercici 3\n",
    "\n",
    "Crea un programa que et pregunti el teu nom, i et demani un número. Si el número és 0, hauria de mostrar un missatge d’error. En cas contrari, hauria de mostrar el nom repetit tants cops com indiqui el número. Per exemple, “Joan Joan Joan”."
   ]
  },
  {
   "cell_type": "code",
   "execution_count": 3,
   "id": "a9ce9941",
   "metadata": {},
   "outputs": [
    {
     "name": "stdout",
     "output_type": "stream",
     "text": [
      "Escriu el teu nom: Gemma\n",
      "Escriu un número: 3\n",
      "Gemma Gemma Gemma \n"
     ]
    }
   ],
   "source": [
    "nom = input(\"Escriu el teu nom: \")\n",
    "num = int(input(\"Escriu un número: \"))\n",
    "\n",
    "def n_vegades_nom (nom,num):\n",
    "    if num == 0:\n",
    "        return \"Error. Intenta-ho amb un altre número\"\n",
    "    else:\n",
    "        return ((nom + \" \") * num)\n",
    "    \n",
    "print (n_vegades_nom(nom,num))"
   ]
  },
  {
   "cell_type": "markdown",
   "id": "d8b6777e",
   "metadata": {},
   "source": [
    "### Exercici 4\n",
    "\n",
    "Crea un programa que donada una llista qualsevol, et digui si és simètrica o no. Si ho és, que et digui quants elements té."
   ]
  },
  {
   "cell_type": "code",
   "execution_count": 4,
   "id": "f7b9d8bd",
   "metadata": {},
   "outputs": [
    {
     "name": "stdout",
     "output_type": "stream",
     "text": [
      "6\n",
      "No és simètrica\n"
     ]
    }
   ],
   "source": [
    "def llista_sim (llista):\n",
    "    if len(llista)% 2 != 0:\n",
    "        print(\"No és simètrica\")\n",
    "    else:\n",
    "        for i in range(len(llista)//2):\n",
    "            if llista[i]!= llista[-i-1]:\n",
    "                print(\"No és simètrica\")\n",
    "                return\n",
    "        print(len(llista))\n",
    "                \n",
    "llista_sim([3,4,5,5,4,3])\n",
    "llista_sim([3,4,6,7,5,4,3])"
   ]
  },
  {
   "cell_type": "markdown",
   "id": "81dc271b",
   "metadata": {},
   "source": [
    "### Exercici 5\n",
    "\n",
    "Crea un programa que donada una llista, et digui quants números coincideixen amb la seva posició. Per exemple [3,4,2,0,2,3,6] el 2 i el 6 coincideixen."
   ]
  },
  {
   "cell_type": "code",
   "execution_count": 5,
   "id": "57438c61",
   "metadata": {},
   "outputs": [
    {
     "data": {
      "text/plain": [
       "3"
      ]
     },
     "execution_count": 5,
     "metadata": {},
     "output_type": "execute_result"
    }
   ],
   "source": [
    "def llista_pos(llista2):\n",
    "    contpos=0\n",
    "    for i in range(len(llista2)):\n",
    "        if llista2[i]== i:\n",
    "            contpos +=1\n",
    "    return contpos\n",
    "llista_pos([1,1,2,5,7,4,6,8])\n",
    "            "
   ]
  },
  {
   "cell_type": "code",
   "execution_count": null,
   "id": "ba8a60cd",
   "metadata": {},
   "outputs": [],
   "source": []
  }
 ],
 "metadata": {
  "kernelspec": {
   "display_name": "Python 3 (ipykernel)",
   "language": "python",
   "name": "python3"
  },
  "language_info": {
   "codemirror_mode": {
    "name": "ipython",
    "version": 3
   },
   "file_extension": ".py",
   "mimetype": "text/x-python",
   "name": "python",
   "nbconvert_exporter": "python",
   "pygments_lexer": "ipython3",
   "version": "3.9.13"
  }
 },
 "nbformat": 4,
 "nbformat_minor": 5
}
